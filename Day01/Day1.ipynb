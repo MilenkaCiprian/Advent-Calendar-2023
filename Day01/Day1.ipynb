{
 "cells": [
  {
   "cell_type": "markdown",
   "metadata": {},
   "source": [
    "Part 1"
   ]
  },
  {
   "cell_type": "code",
   "execution_count": 22,
   "metadata": {},
   "outputs": [],
   "source": [
    "import pandas as pd\n",
    "import numpy as np\n",
    "import re"
   ]
  },
  {
   "cell_type": "code",
   "execution_count": 60,
   "metadata": {},
   "outputs": [],
   "source": [
    "path = \"/Users/milu/Documents/Github/Advent-Calendar-2023/Day01/input.txt\"\n",
    "\n",
    "with open( path, 'r') as file:\n",
    "    lines = file.readlines()"
   ]
  },
  {
   "cell_type": "code",
   "execution_count": 36,
   "metadata": {},
   "outputs": [
    {
     "data": {
      "text/plain": [
       "55172"
      ]
     },
     "execution_count": 36,
     "metadata": {},
     "output_type": "execute_result"
    }
   ],
   "source": [
    "numbers_list = []\n",
    "\n",
    "for line in lines:\n",
    "    first_number = re.search(r'\\d', line)\n",
    "    last_number = re.search(r'\\d', line[::-1])\n",
    "    number = ''.join([first_number.group(), last_number.group()])\n",
    "    numbers_list.append(number)\n",
    "\n",
    "numbers_list = [int(num) for num in numbers_list]\n",
    "df = pd.DataFrame(numbers_list, columns=['Numbers'])\n",
    "df['Numbers'].sum()"
   ]
  },
  {
   "cell_type": "markdown",
   "metadata": {},
   "source": [
    "Part 2"
   ]
  },
  {
   "cell_type": "code",
   "execution_count": 93,
   "metadata": {},
   "outputs": [
    {
     "data": {
      "text/plain": [
       "54393"
      ]
     },
     "execution_count": 93,
     "metadata": {},
     "output_type": "execute_result"
    }
   ],
   "source": [
    "word_to_number = {\n",
    "    'one': 1,\n",
    "    'two': 2,\n",
    "    'three': 3,\n",
    "    'four': 4,\n",
    "    'five': 5,\n",
    "    'six': 6,\n",
    "    'seven': 7,\n",
    "    'eight': 8,\n",
    "    'nine': 9\n",
    "}\n",
    "\n",
    "values = []\n",
    "\n",
    "for line in lines:\n",
    "    modified_line = line\n",
    "    for word, number in word_to_number.items():\n",
    "        modified_line = modified_line.replace(word, str(number))\n",
    "    values.append(modified_line)\n",
    "\n",
    "numbers_list2 = []\n",
    "\n",
    "for line in values:\n",
    "    first_number = re.search(r'\\d', line)\n",
    "    last_number = re.search(r'\\d', line[::-1])\n",
    "    number = ''.join([first_number.group(), last_number.group()])\n",
    "    numbers_list2.append(number)\n",
    "\n",
    "numbers_list2 = [int(num) for num in numbers_list2]\n",
    "df = pd.DataFrame(numbers_list2, columns=['Numbers'])\n",
    "df['Numbers'].sum()"
   ]
  },
  {
   "cell_type": "code",
   "execution_count": null,
   "metadata": {},
   "outputs": [],
   "source": []
  }
 ],
 "metadata": {
  "kernelspec": {
   "display_name": "Python 3",
   "language": "python",
   "name": "python3"
  },
  "language_info": {
   "codemirror_mode": {
    "name": "ipython",
    "version": 3
   },
   "file_extension": ".py",
   "mimetype": "text/x-python",
   "name": "python",
   "nbconvert_exporter": "python",
   "pygments_lexer": "ipython3",
   "version": "3.11.4"
  },
  "orig_nbformat": 4
 },
 "nbformat": 4,
 "nbformat_minor": 2
}
